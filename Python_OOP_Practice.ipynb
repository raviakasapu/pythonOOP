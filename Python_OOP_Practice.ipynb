{
  "nbformat": 4,
  "nbformat_minor": 0,
  "metadata": {
    "colab": {
      "name": "Python_OOP_Practice.ipynb",
      "provenance": [],
      "collapsed_sections": [],
      "authorship_tag": "ABX9TyMJABDXEemwPZGIU8syPB4h",
      "include_colab_link": true
    },
    "kernelspec": {
      "name": "python3",
      "display_name": "Python 3"
    },
    "language_info": {
      "name": "python"
    }
  },
  "cells": [
    {
      "cell_type": "markdown",
      "metadata": {
        "id": "view-in-github",
        "colab_type": "text"
      },
      "source": [
        "<a href=\"https://colab.research.google.com/github/raviakasapu/pythonOOP/blob/main/Python_OOP_Practice.ipynb\" target=\"_parent\"><img src=\"https://colab.research.google.com/assets/colab-badge.svg\" alt=\"Open In Colab\"/></a>"
      ]
    },
    {
      "cell_type": "code",
      "source": [
        "#https://python-course.eu/oop/object-oriented-programming.php"
      ],
      "metadata": {
        "id": "_zwkhtc33NRF"
      },
      "execution_count": null,
      "outputs": []
    },
    {
      "cell_type": "markdown",
      "source": [
        "***Define a new class Robot , with set and get methods***\n"
      ],
      "metadata": {
        "id": "VTH-OBy75vhA"
      }
    },
    {
      "cell_type": "code",
      "source": [
        "class Robot:\n",
        "  def __init__(self,name,year):\n",
        "    self.name = name\n",
        "    self.year = year\n",
        "  def hello(self):\n",
        "    if self.name:\n",
        "      print(\"name = \"+ self.name)\n",
        "    else:\n",
        "      print(\"name not defined\")\n",
        "  def set_name(self,name):\n",
        "    self.name = name\n",
        "  def set_year(self,year):\n",
        "    self.year = year\n",
        "  def get_name(self):\n",
        "    return self.name\n",
        "  def get_year(self):\n",
        "    return self.year"
      ],
      "metadata": {
        "id": "DzL2BR-I3slW"
      },
      "execution_count": 1,
      "outputs": []
    },
    {
      "cell_type": "code",
      "source": [
        "x = Robot(\"iRobot\",\"2088\")\n",
        "print(x.get_name())\n",
        "print(x.get_year())"
      ],
      "metadata": {
        "colab": {
          "base_uri": "https://localhost:8080/"
        },
        "id": "-UOIfeZ44v7N",
        "outputId": "d6a7c257-7d2f-40f3-8b60-cf6a5049a02d"
      },
      "execution_count": 5,
      "outputs": [
        {
          "output_type": "stream",
          "name": "stdout",
          "text": [
            "iRobot\n",
            "2088\n"
          ]
        }
      ]
    },
    {
      "cell_type": "markdown",
      "source": [
        "***using Set and Get methods***"
      ],
      "metadata": {
        "id": "m5Qc6zG_51Oe"
      }
    },
    {
      "cell_type": "code",
      "source": [
        "x.set_name(\"iRobot_22\")\n",
        "x.set_year(\"2100\")\n",
        "print(x.get_name())\n",
        "print(x.get_year())"
      ],
      "metadata": {
        "colab": {
          "base_uri": "https://localhost:8080/"
        },
        "id": "Q0UC7kOu5FXe",
        "outputId": "479e8f61-7215-4f68-cebc-c435047529e0"
      },
      "execution_count": 6,
      "outputs": [
        {
          "output_type": "stream",
          "name": "stdout",
          "text": [
            "iRobot_22\n",
            "2100\n"
          ]
        }
      ]
    },
    {
      "cell_type": "markdown",
      "source": [
        "__str__ and __repr__"
      ],
      "metadata": {
        "id": "Nu2D17Fz70Iy"
      }
    },
    {
      "cell_type": "markdown",
      "source": [
        "***Public, - Protected-, and Private Attributes***"
      ],
      "metadata": {
        "id": "O1-hXIby8D0t"
      }
    },
    {
      "cell_type": "code",
      "source": [
        "class A():\n",
        "  def __init__(self):\n",
        "    self.__priv = \"I am private\"\n",
        "    self._prot = \"I am protected\"\n",
        "    self.pub = \"I am public\""
      ],
      "metadata": {
        "id": "ZtEKDWPlAmjv"
      },
      "execution_count": 7,
      "outputs": []
    },
    {
      "cell_type": "code",
      "source": [
        "x = A()\n",
        "print(x._prot)\n",
        "print(x.pub)"
      ],
      "metadata": {
        "colab": {
          "base_uri": "https://localhost:8080/"
        },
        "id": "p8KxjFATAuhU",
        "outputId": "04aa83f6-6672-42f0-fe2e-6449a08f0a6a"
      },
      "execution_count": 13,
      "outputs": [
        {
          "output_type": "stream",
          "name": "stdout",
          "text": [
            "I am protected\n",
            "I am public\n"
          ]
        }
      ]
    },
    {
      "cell_type": "code",
      "source": [
        "print(x.__priv)"
      ],
      "metadata": {
        "colab": {
          "base_uri": "https://localhost:8080/",
          "height": 164
        },
        "id": "MGG1LcXFBeAS",
        "outputId": "b111d62e-8294-4ff2-faea-ad42e1d6bc1a"
      },
      "execution_count": 14,
      "outputs": [
        {
          "output_type": "error",
          "ename": "AttributeError",
          "evalue": "ignored",
          "traceback": [
            "\u001b[0;31m---------------------------------------------------------------------------\u001b[0m",
            "\u001b[0;31mAttributeError\u001b[0m                            Traceback (most recent call last)",
            "\u001b[0;32m<ipython-input-14-79c3f203b6a7>\u001b[0m in \u001b[0;36m<module>\u001b[0;34m()\u001b[0m\n\u001b[0;32m----> 1\u001b[0;31m \u001b[0mprint\u001b[0m\u001b[0;34m(\u001b[0m\u001b[0mx\u001b[0m\u001b[0;34m.\u001b[0m\u001b[0m__priv\u001b[0m\u001b[0;34m)\u001b[0m\u001b[0;34m\u001b[0m\u001b[0;34m\u001b[0m\u001b[0m\n\u001b[0m",
            "\u001b[0;31mAttributeError\u001b[0m: 'A' object has no attribute '__priv'"
          ]
        }
      ]
    },
    {
      "cell_type": "code",
      "source": [
        "class Robot2:\n",
        "  def __init__(self,name,year):\n",
        "    self.__name = name\n",
        "    self.__year = year\n",
        "  def set_name(self, name):\n",
        "      self.__name = name\n",
        "  def get_name(self):\n",
        "      return self.__name    \n",
        "  def set_year(self, by):\n",
        "      self.__year = by\n",
        "  def get_year(self):\n",
        "      return self.__year\n",
        "  def __repr__(self):\n",
        "    return \"Robot2(\"+self.__name+\",\"+str(self.__year)+\")\"\n",
        "  def __str__(self):\n",
        "    return \"Name:\"+self.__name+\",\"+self.__year\n",
        "\n"
      ],
      "metadata": {
        "id": "sCUABYViB9Vf"
      },
      "execution_count": 21,
      "outputs": []
    },
    {
      "cell_type": "code",
      "source": [
        "if __name__ == \"__main__\":\n",
        "  x = Robot2(\"iRobot\",2090)\n",
        "  y = Robot2(\"Chapie\",2101)\n",
        "  for r in [x,y]:\n",
        "    print(r.get_name())\n",
        "    print(r.get_year())"
      ],
      "metadata": {
        "colab": {
          "base_uri": "https://localhost:8080/"
        },
        "id": "67i6rDHlIkES",
        "outputId": "8a9367e3-9b53-4415-9df2-f3c4ab3de72e"
      },
      "execution_count": 22,
      "outputs": [
        {
          "output_type": "stream",
          "name": "stdout",
          "text": [
            "iRobot\n",
            "2090\n",
            "Chapie\n",
            "2101\n"
          ]
        }
      ]
    },
    {
      "cell_type": "code",
      "source": [
        "class Robot():\n",
        "    def __init__(self, name):\n",
        "        print(name + \" has been created!\")\n",
        "    def __del__(self):\n",
        "        print (self.name + \" says bye-bye!\")\n",
        "if __name__ == \"__main__\":\n",
        "    x = Robot(\"Tik-Tok\")\n",
        "    y = Robot(\"Jenkins\")\n",
        "    z = x\n",
        "    print(\"Deleting x\")\n",
        "    del x\n",
        "    print(\"Deleting z\")\n",
        "    del z\n",
        "    del y"
      ],
      "metadata": {
        "colab": {
          "base_uri": "https://localhost:8080/"
        },
        "id": "SZYFFxNKJqFa",
        "outputId": "d76d5a4c-6496-49af-aaf8-2ad1cebb35cc"
      },
      "execution_count": 23,
      "outputs": [
        {
          "output_type": "stream",
          "name": "stdout",
          "text": [
            "Tik-Tok has been created!\n",
            "Jenkins has been created!\n",
            "Deleting x\n",
            "Deleting z\n"
          ]
        },
        {
          "output_type": "stream",
          "name": "stderr",
          "text": [
            "Exception ignored in: <function Robot.__del__ at 0x7fa9305a63b0>\n",
            "Traceback (most recent call last):\n",
            "  File \"<ipython-input-23-f32f4a347366>\", line 5, in __del__\n",
            "AttributeError: 'Robot' object has no attribute 'name'\n",
            "Exception ignored in: <function Robot.__del__ at 0x7fa9305a63b0>\n",
            "Traceback (most recent call last):\n",
            "  File \"<ipython-input-23-f32f4a347366>\", line 5, in __del__\n",
            "AttributeError: 'Robot' object has no attribute 'name'\n"
          ]
        }
      ]
    }
  ]
}