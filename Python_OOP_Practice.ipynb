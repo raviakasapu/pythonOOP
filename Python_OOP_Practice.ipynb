{
  "nbformat": 4,
  "nbformat_minor": 0,
  "metadata": {
    "colab": {
      "name": "Python_OOP_Practice.ipynb",
      "provenance": [],
      "authorship_tag": "ABX9TyO/tj5jsR5BtWjLYLrstohs",
      "include_colab_link": true
    },
    "kernelspec": {
      "name": "python3",
      "display_name": "Python 3"
    },
    "language_info": {
      "name": "python"
    }
  },
  "cells": [
    {
      "cell_type": "markdown",
      "metadata": {
        "id": "view-in-github",
        "colab_type": "text"
      },
      "source": [
        "<a href=\"https://colab.research.google.com/github/raviakasapu/pythonOOP/blob/main/Python_OOP_Practice.ipynb\" target=\"_parent\"><img src=\"https://colab.research.google.com/assets/colab-badge.svg\" alt=\"Open In Colab\"/></a>"
      ]
    },
    {
      "cell_type": "code",
      "execution_count": null,
      "metadata": {
        "id": "_LtJLlXt291R"
      },
      "outputs": [],
      "source": [
        "#https://python-course.eu/oop/object-oriented-programming.php"
      ]
    },
    {
      "cell_type": "code",
      "source": [
        "#https://python-course.eu/oop/object-oriented-programming.php"
      ],
      "metadata": {
        "id": "_zwkhtc33NRF"
      },
      "execution_count": null,
      "outputs": []
    },
    {
      "cell_type": "code",
      "source": [
        ""
      ],
      "metadata": {
        "id": "DzL2BR-I3slW"
      },
      "execution_count": null,
      "outputs": []
    }
  ]
}