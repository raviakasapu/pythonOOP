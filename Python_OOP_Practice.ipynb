{
  "nbformat": 4,
  "nbformat_minor": 0,
  "metadata": {
    "colab": {
      "name": "Python_OOP_Practice.ipynb",
      "provenance": [],
      "authorship_tag": "ABX9TyPGQNVN+jPnQoTRgypNmyFG",
      "include_colab_link": true
    },
    "kernelspec": {
      "name": "python3",
      "display_name": "Python 3"
    },
    "language_info": {
      "name": "python"
    }
  },
  "cells": [
    {
      "cell_type": "markdown",
      "metadata": {
        "id": "view-in-github",
        "colab_type": "text"
      },
      "source": [
        "<a href=\"https://colab.research.google.com/github/raviakasapu/pythonOOP/blob/main/Python_OOP_Practice.ipynb\" target=\"_parent\"><img src=\"https://colab.research.google.com/assets/colab-badge.svg\" alt=\"Open In Colab\"/></a>"
      ]
    },
    {
      "cell_type": "code",
      "source": [
        "#https://python-course.eu/oop/object-oriented-programming.php"
      ],
      "metadata": {
        "id": "_zwkhtc33NRF"
      },
      "execution_count": null,
      "outputs": []
    },
    {
      "cell_type": "code",
      "source": [
        "class Robot:\n",
        "  def __init__(self,name,year):\n",
        "    self.name = name\n",
        "    self.year = year\n",
        "  def hello(self):\n",
        "    if self.name:\n",
        "      print(\"name = \"+ self.name)\n",
        "    else:\n",
        "      print(\"name not defined\")\n",
        "  def set_name(self,name):\n",
        "    self.name = name\n",
        "  def set_year(self,year):\n",
        "    self.year = year\n",
        "  def get_name(self):\n",
        "    return self.name\n",
        "  def get_year(self):\n",
        "    return self.year"
      ],
      "metadata": {
        "id": "DzL2BR-I3slW"
      },
      "execution_count": 1,
      "outputs": []
    },
    {
      "cell_type": "code",
      "source": [
        "x = Robot(\"iRobot\",\"2088\")\n",
        "print(x.get_name())\n",
        "print(x.get_year())"
      ],
      "metadata": {
        "colab": {
          "base_uri": "https://localhost:8080/"
        },
        "id": "-UOIfeZ44v7N",
        "outputId": "d6a7c257-7d2f-40f3-8b60-cf6a5049a02d"
      },
      "execution_count": 5,
      "outputs": [
        {
          "output_type": "stream",
          "name": "stdout",
          "text": [
            "iRobot\n",
            "2088\n"
          ]
        }
      ]
    },
    {
      "cell_type": "code",
      "source": [
        "x.set_name(\"iRobot_22\")\n",
        "x.set_year(\"2100\")\n",
        "print(x.get_name())\n",
        "print(x.get_year())"
      ],
      "metadata": {
        "colab": {
          "base_uri": "https://localhost:8080/"
        },
        "id": "Q0UC7kOu5FXe",
        "outputId": "479e8f61-7215-4f68-cebc-c435047529e0"
      },
      "execution_count": 6,
      "outputs": [
        {
          "output_type": "stream",
          "name": "stdout",
          "text": [
            "iRobot_22\n",
            "2100\n"
          ]
        }
      ]
    }
  ]
}