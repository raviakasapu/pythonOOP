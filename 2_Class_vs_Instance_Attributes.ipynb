{
  "nbformat": 4,
  "nbformat_minor": 0,
  "metadata": {
    "colab": {
      "name": "2.Class vs. Instance Attributes.ipynb",
      "provenance": [],
      "collapsed_sections": [],
      "authorship_tag": "ABX9TyPD1HCECm4+1Xzqmf/W6d5l",
      "include_colab_link": true
    },
    "kernelspec": {
      "name": "python3",
      "display_name": "Python 3"
    },
    "language_info": {
      "name": "python"
    }
  },
  "cells": [
    {
      "cell_type": "markdown",
      "metadata": {
        "id": "view-in-github",
        "colab_type": "text"
      },
      "source": [
        "<a href=\"https://colab.research.google.com/github/raviakasapu/pythonOOP/blob/main/2_Class_vs_Instance_Attributes.ipynb\" target=\"_parent\"><img src=\"https://colab.research.google.com/assets/colab-badge.svg\" alt=\"Open In Colab\"/></a>"
      ]
    },
    {
      "cell_type": "markdown",
      "source": [
        ""
      ],
      "metadata": {
        "id": "CZwx4Ld2if81"
      }
    },
    {
      "cell_type": "code",
      "source": [
        "#https://python-course.eu/oop/class-instance-attributes.php"
      ],
      "metadata": {
        "id": "aMfD70L1ijPq"
      },
      "execution_count": null,
      "outputs": []
    },
    {
      "cell_type": "code",
      "source": [
        "class A:\n",
        "    a = \"I am a class attribute!\"\n",
        "x = A()\n",
        "y = A()\n",
        "x.a"
      ],
      "metadata": {
        "colab": {
          "base_uri": "https://localhost:8080/",
          "height": 34
        },
        "id": "0ngKuZGZims6",
        "outputId": "d368ddb0-1fc7-4ca1-db11-fee095192fb9"
      },
      "execution_count": null,
      "outputs": [
        {
          "output_type": "execute_result",
          "data": {
            "text/plain": [
              "'I am a class attribute!'"
            ],
            "application/vnd.google.colaboratory.intrinsic+json": {
              "type": "string"
            }
          },
          "metadata": {},
          "execution_count": 1
        }
      ]
    },
    {
      "cell_type": "code",
      "source": [
        "x.a = \"new instanve variable\"\n",
        "x.__dict__"
      ],
      "metadata": {
        "colab": {
          "base_uri": "https://localhost:8080/"
        },
        "id": "7TrKFB-mjL39",
        "outputId": "351e39df-b567-4610-e7c7-807aa70c80d3"
      },
      "execution_count": null,
      "outputs": [
        {
          "output_type": "execute_result",
          "data": {
            "text/plain": [
              "{'a': 'new instanve variable'}"
            ]
          },
          "metadata": {},
          "execution_count": 2
        }
      ]
    },
    {
      "cell_type": "code",
      "source": [
        "y.__dict__"
      ],
      "metadata": {
        "colab": {
          "base_uri": "https://localhost:8080/"
        },
        "id": "M4jVFZOdjO4e",
        "outputId": "86754f06-40fd-4982-9b8e-8aa8815345cc"
      },
      "execution_count": null,
      "outputs": [
        {
          "output_type": "execute_result",
          "data": {
            "text/plain": [
              "{}"
            ]
          },
          "metadata": {},
          "execution_count": 3
        }
      ]
    },
    {
      "cell_type": "code",
      "source": [
        "A.__dict__"
      ],
      "metadata": {
        "colab": {
          "base_uri": "https://localhost:8080/"
        },
        "id": "LnAGOJuAjZFO",
        "outputId": "de41fc04-e496-4165-aaae-5e39ed763cc6"
      },
      "execution_count": null,
      "outputs": [
        {
          "output_type": "execute_result",
          "data": {
            "text/plain": [
              "mappingproxy({'__module__': '__main__',\n",
              "              'a': 'I am a class attribute!',\n",
              "              '__dict__': <attribute '__dict__' of 'A' objects>,\n",
              "              '__weakref__': <attribute '__weakref__' of 'A' objects>,\n",
              "              '__doc__': None})"
            ]
          },
          "metadata": {},
          "execution_count": 4
        }
      ]
    },
    {
      "cell_type": "code",
      "source": [
        "x.__class__"
      ],
      "metadata": {
        "colab": {
          "base_uri": "https://localhost:8080/"
        },
        "id": "MNDZA3PjjhCH",
        "outputId": "0fa545b0-55c6-4a59-b909-04f7b26cda16"
      },
      "execution_count": null,
      "outputs": [
        {
          "output_type": "execute_result",
          "data": {
            "text/plain": [
              "__main__.A"
            ]
          },
          "metadata": {},
          "execution_count": 5
        }
      ]
    },
    {
      "cell_type": "code",
      "source": [
        "class C: \n",
        "    counter = 0\n",
        "    def __init__(self): \n",
        "        print(type(self))\n",
        "        type(self).counter += 1\n",
        "    def __del__(self):\n",
        "        type(self).counter -= 1\n",
        "if __name__ == \"__main__\":   \n",
        "    x = C()\n",
        "    print(\"Number of instances: : \" + str(C.counter))\n",
        "    y = C()\n",
        "    print(\"Number of instances: : \" + str(C.counter))\n",
        "    del x\n",
        "    print(\"Number of instances: : \" + str(C.counter))\n",
        "    del y\n",
        "    print(\"Number of instances: : \" + str(C.counter))\n"
      ],
      "metadata": {
        "colab": {
          "base_uri": "https://localhost:8080/"
        },
        "id": "dq09h9yXkKy4",
        "outputId": "0da5ab21-5faf-4168-dee8-dc7d72c48d9c"
      },
      "execution_count": null,
      "outputs": [
        {
          "output_type": "stream",
          "name": "stdout",
          "text": [
            "<class '__main__.C'>\n",
            "Number of instances: : 1\n",
            "<class '__main__.C'>\n",
            "Number of instances: : 2\n",
            "Number of instances: : 1\n",
            "Number of instances: : 0\n"
          ]
        }
      ]
    },
    {
      "cell_type": "code",
      "source": [
        "class Robot:\n",
        "    __counter = 0 #private attribute\n",
        "    def __init__(self):\n",
        "        type(self).__counter += 1\n",
        "    def RobotInstances(self):\n",
        "        return Robot.__counter\n",
        "if __name__ == \"__main__\":\n",
        "  x = Robot()\n",
        "  print(x.RobotInstances())"
      ],
      "metadata": {
        "id": "0lyoNygylTUX",
        "outputId": "a4655af5-3475-4a3a-9727-4ffb6c2cf7c3",
        "colab": {
          "base_uri": "https://localhost:8080/"
        }
      },
      "execution_count": null,
      "outputs": [
        {
          "output_type": "stream",
          "name": "stdout",
          "text": [
            "1\n"
          ]
        }
      ]
    },
    {
      "cell_type": "code",
      "source": [
        "class Robot_static_method:\n",
        "    __counter = 0\n",
        "    def __init__(self):\n",
        "        type(self).__counter += 1\n",
        "    #@staticmethod\n",
        "    def RobotInstances():\n",
        "        return Robot_static_method.__counter\n"
      ],
      "metadata": {
        "id": "_q70k9U4lgPq"
      },
      "execution_count": null,
      "outputs": []
    },
    {
      "cell_type": "code",
      "source": [
        "y = Robot_static_method()\n",
        "y.RobotInstances() # this does not work due to omission of Self in RobotInstances\n"
      ],
      "metadata": {
        "colab": {
          "base_uri": "https://localhost:8080/",
          "height": 191
        },
        "id": "uoH81AOCl1nm",
        "outputId": "64106b89-4232-4008-e141-9c51ea53cb39"
      },
      "execution_count": null,
      "outputs": [
        {
          "output_type": "error",
          "ename": "TypeError",
          "evalue": "ignored",
          "traceback": [
            "\u001b[0;31m---------------------------------------------------------------------------\u001b[0m",
            "\u001b[0;31mTypeError\u001b[0m                                 Traceback (most recent call last)",
            "\u001b[0;32m<ipython-input-19-1a41eb8b5f2b>\u001b[0m in \u001b[0;36m<module>\u001b[0;34m\u001b[0m\n\u001b[1;32m      1\u001b[0m \u001b[0my\u001b[0m \u001b[0;34m=\u001b[0m \u001b[0mRobot_static_method\u001b[0m\u001b[0;34m(\u001b[0m\u001b[0;34m)\u001b[0m\u001b[0;34m\u001b[0m\u001b[0;34m\u001b[0m\u001b[0m\n\u001b[0;32m----> 2\u001b[0;31m \u001b[0my\u001b[0m\u001b[0;34m.\u001b[0m\u001b[0mRobotInstances\u001b[0m\u001b[0;34m(\u001b[0m\u001b[0;34m)\u001b[0m \u001b[0;31m# this does not work due to omission of Self in RobotInstances\u001b[0m\u001b[0;34m\u001b[0m\u001b[0;34m\u001b[0m\u001b[0m\n\u001b[0m\u001b[1;32m      3\u001b[0m \u001b[0mRobot_static_method\u001b[0m\u001b[0;34m.\u001b[0m\u001b[0mRobotInstances\u001b[0m\u001b[0;34m(\u001b[0m\u001b[0;34m)\u001b[0m\u001b[0;34m\u001b[0m\u001b[0;34m\u001b[0m\u001b[0m\n",
            "\u001b[0;31mTypeError\u001b[0m: RobotInstances() takes 0 positional arguments but 1 was given"
          ]
        }
      ]
    },
    {
      "cell_type": "code",
      "source": [
        "# this works by directly working with class instead of instance of class\n",
        "Robot_static_method.RobotInstances()"
      ],
      "metadata": {
        "id": "zqIuLpXUglbC",
        "outputId": "ff9fefa6-c7da-48d9-a005-0526f679c057",
        "colab": {
          "base_uri": "https://localhost:8080/"
        }
      },
      "execution_count": null,
      "outputs": [
        {
          "output_type": "execute_result",
          "data": {
            "text/plain": [
              "3"
            ]
          },
          "metadata": {},
          "execution_count": 21
        }
      ]
    },
    {
      "cell_type": "markdown",
      "source": [
        "--------------------------------------\n",
        "*** instance method -- about ***\n",
        "--------------------------------------"
      ],
      "metadata": {
        "id": "zzumdxLtpI9D"
      }
    },
    {
      "cell_type": "code",
      "source": [
        "class Pet:\n",
        "    _class_info = \"pet animals\"\n",
        "    def about(self):\n",
        "        print(\"This class is about \" + self._class_info + \"!\")   \n",
        "class Dog(Pet):\n",
        "    _class_info = \"man's best friends\"\n",
        "class Cat(Pet):\n",
        "    _class_info = \"all kinds of cats\"\n"
      ],
      "metadata": {
        "id": "SZG_2GzCpP1B"
      },
      "execution_count": null,
      "outputs": []
    },
    {
      "cell_type": "code",
      "source": [
        "p = Pet()\n",
        "p.about()\n",
        "d = Dog()\n",
        "d.about()\n",
        "c = Cat()\n",
        "c.about()"
      ],
      "metadata": {
        "colab": {
          "base_uri": "https://localhost:8080/"
        },
        "id": "3RYg_rsMqauW",
        "outputId": "8e516cf3-220a-44e7-d0f4-7eae20ded384"
      },
      "execution_count": null,
      "outputs": [
        {
          "output_type": "stream",
          "name": "stdout",
          "text": [
            "This class is about pet animals!\n",
            "This class is about man's best friends!\n",
            "This class is about all kinds of cats!\n"
          ]
        }
      ]
    },
    {
      "cell_type": "code",
      "source": [
        "Pet.about(p)\n",
        "Dog.about(d)\n",
        "Cat.about(c)"
      ],
      "metadata": {
        "colab": {
          "base_uri": "https://localhost:8080/"
        },
        "id": "gx07-tEtqdpj",
        "outputId": "93f434de-68d2-40b6-bf46-190a022b6562"
      },
      "execution_count": null,
      "outputs": [
        {
          "output_type": "stream",
          "name": "stdout",
          "text": [
            "This class is about pet animals!\n",
            "This class is about man's best friends!\n",
            "This class is about all kinds of cats!\n"
          ]
        }
      ]
    },
    {
      "cell_type": "markdown",
      "source": [
        "--------------------------------------\n",
        "***Static method -- about ***\n",
        "--------------------------------------"
      ],
      "metadata": {
        "id": "CbcsQL6Pqosi"
      }
    },
    {
      "cell_type": "code",
      "source": [
        "class Pet:\n",
        "    _class_info = \"pet animals\"\n",
        "    @staticmethod\n",
        "    def about():\n",
        "        print(\"This class is about \" + Pet._class_info + \"!\")   \n",
        "class Dog(Pet):\n",
        "    _class_info = \"man's best friends\"\n",
        "class Cat(Pet):\n",
        "    _class_info = \"all kinds of cats\"\n"
      ],
      "metadata": {
        "id": "w5mY8dXVqk4o"
      },
      "execution_count": null,
      "outputs": []
    },
    {
      "cell_type": "code",
      "source": [
        "Pet.about()\n",
        "Dog.about()\n",
        "Cat.about()"
      ],
      "metadata": {
        "colab": {
          "base_uri": "https://localhost:8080/"
        },
        "id": "e-Tdj9drqxt6",
        "outputId": "a039a872-ec44-4c96-e87d-162f2c508c20"
      },
      "execution_count": null,
      "outputs": [
        {
          "output_type": "stream",
          "name": "stdout",
          "text": [
            "This class is about pet animals!\n",
            "This class is about pet animals!\n",
            "This class is about pet animals!\n"
          ]
        }
      ]
    },
    {
      "cell_type": "markdown",
      "source": [
        "--------------------------------------\n",
        "***Class Method -- about***\n",
        "--------------------------------------"
      ],
      "metadata": {
        "id": "RDohBFf7rEq_"
      }
    },
    {
      "cell_type": "code",
      "source": [
        "class Pet:\n",
        "    _class_info = \"pet animals\"\n",
        "    @classmethod\n",
        "    def about(cls):\n",
        "        print(\"This class is about \" + cls._class_info + \"!\")   \n",
        "class Dog(Pet):\n",
        "    _class_info = \"man's best friends\"\n",
        "class Cat(Pet):\n",
        "    _class_info = \"all kinds of cats\"\n"
      ],
      "metadata": {
        "id": "f4N7PvtkrB5T"
      },
      "execution_count": null,
      "outputs": []
    },
    {
      "cell_type": "code",
      "source": [
        "Pet.about()\n",
        "Dog.about()\n",
        "Cat.about()"
      ],
      "metadata": {
        "colab": {
          "base_uri": "https://localhost:8080/"
        },
        "id": "HXOywbJwrDev",
        "outputId": "24ee5e0c-01d1-4a01-c07b-9dcbec6c69e5"
      },
      "execution_count": null,
      "outputs": [
        {
          "output_type": "stream",
          "name": "stdout",
          "text": [
            "This class is about pet animals!\n",
            "This class is about man's best friends!\n",
            "This class is about all kinds of cats!\n"
          ]
        }
      ]
    }
  ]
}