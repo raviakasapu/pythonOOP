{
  "nbformat": 4,
  "nbformat_minor": 0,
  "metadata": {
    "colab": {
      "name": "2.Class vs. Instance Attributes.ipynb",
      "provenance": [],
      "collapsed_sections": [],
      "authorship_tag": "ABX9TyMFimgH+FiYMz0TtQL2PKqv",
      "include_colab_link": true
    },
    "kernelspec": {
      "name": "python3",
      "display_name": "Python 3"
    },
    "language_info": {
      "name": "python"
    }
  },
  "cells": [
    {
      "cell_type": "markdown",
      "metadata": {
        "id": "view-in-github",
        "colab_type": "text"
      },
      "source": [
        "<a href=\"https://colab.research.google.com/github/raviakasapu/pythonOOP/blob/main/2_Class_vs_Instance_Attributes.ipynb\" target=\"_parent\"><img src=\"https://colab.research.google.com/assets/colab-badge.svg\" alt=\"Open In Colab\"/></a>"
      ]
    },
    {
      "cell_type": "markdown",
      "source": [
        ""
      ],
      "metadata": {
        "id": "CZwx4Ld2if81"
      }
    },
    {
      "cell_type": "code",
      "source": [
        "#https://python-course.eu/oop/class-instance-attributes.php"
      ],
      "metadata": {
        "id": "aMfD70L1ijPq"
      },
      "execution_count": null,
      "outputs": []
    },
    {
      "cell_type": "code",
      "source": [
        "class A:\n",
        "    a = \"I am a class attribute!\"\n",
        "x = A()\n",
        "y = A()\n",
        "x.a"
      ],
      "metadata": {
        "colab": {
          "base_uri": "https://localhost:8080/",
          "height": 37
        },
        "id": "0ngKuZGZims6",
        "outputId": "cb934d8b-0850-4c6d-9c68-303cd8fc482d"
      },
      "execution_count": null,
      "outputs": [
        {
          "output_type": "execute_result",
          "data": {
            "application/vnd.google.colaboratory.intrinsic+json": {
              "type": "string"
            },
            "text/plain": [
              "'I am a class attribute!'"
            ]
          },
          "metadata": {},
          "execution_count": 1
        }
      ]
    },
    {
      "cell_type": "code",
      "source": [
        "x.a = \"new instanve variable\"\n",
        "x.__dict__"
      ],
      "metadata": {
        "colab": {
          "base_uri": "https://localhost:8080/"
        },
        "id": "7TrKFB-mjL39",
        "outputId": "a449eb03-b410-4af0-fea7-9034ad4d58ac"
      },
      "execution_count": null,
      "outputs": [
        {
          "output_type": "execute_result",
          "data": {
            "text/plain": [
              "{'a': 'new instanve variable'}"
            ]
          },
          "metadata": {},
          "execution_count": 4
        }
      ]
    },
    {
      "cell_type": "code",
      "source": [
        "y.__dict__"
      ],
      "metadata": {
        "colab": {
          "base_uri": "https://localhost:8080/"
        },
        "id": "M4jVFZOdjO4e",
        "outputId": "4633a349-8f97-49c8-8a20-621dc3594f52"
      },
      "execution_count": null,
      "outputs": [
        {
          "output_type": "execute_result",
          "data": {
            "text/plain": [
              "{}"
            ]
          },
          "metadata": {},
          "execution_count": 5
        }
      ]
    },
    {
      "cell_type": "code",
      "source": [
        "A.__dict__"
      ],
      "metadata": {
        "colab": {
          "base_uri": "https://localhost:8080/"
        },
        "id": "LnAGOJuAjZFO",
        "outputId": "64bf836a-dc13-4fff-fbef-58babdeb2d93"
      },
      "execution_count": null,
      "outputs": [
        {
          "output_type": "execute_result",
          "data": {
            "text/plain": [
              "mappingproxy({'__dict__': <attribute '__dict__' of 'A' objects>,\n",
              "              '__doc__': None,\n",
              "              '__module__': '__main__',\n",
              "              '__weakref__': <attribute '__weakref__' of 'A' objects>,\n",
              "              'a': 'I am a class attribute!'})"
            ]
          },
          "metadata": {},
          "execution_count": 7
        }
      ]
    },
    {
      "cell_type": "code",
      "source": [
        "x.__class__"
      ],
      "metadata": {
        "colab": {
          "base_uri": "https://localhost:8080/"
        },
        "id": "MNDZA3PjjhCH",
        "outputId": "10329a02-ed71-4121-e2bd-d8e8df4945e2"
      },
      "execution_count": null,
      "outputs": [
        {
          "output_type": "execute_result",
          "data": {
            "text/plain": [
              "__main__.A"
            ]
          },
          "metadata": {},
          "execution_count": 8
        }
      ]
    },
    {
      "cell_type": "code",
      "source": [
        "class C: \n",
        "    counter = 0\n",
        "    def __init__(self): \n",
        "        type(self).counter += 1\n",
        "    def __del__(self):\n",
        "        type(self).counter -= 1\n",
        "if __name__ == \"__main__\":\n",
        "    x = C()\n",
        "    print(\"Number of instances: : \" + str(C.counter))\n",
        "    y = C()\n",
        "    print(\"Number of instances: : \" + str(C.counter))\n",
        "    del x\n",
        "    print(\"Number of instances: : \" + str(C.counter))\n",
        "    del y\n",
        "    print(\"Number of instances: : \" + str(C.counter))\n"
      ],
      "metadata": {
        "colab": {
          "base_uri": "https://localhost:8080/"
        },
        "id": "dq09h9yXkKy4",
        "outputId": "650d8f63-0286-451d-a058-d0ff24c92dcf"
      },
      "execution_count": null,
      "outputs": [
        {
          "output_type": "stream",
          "name": "stdout",
          "text": [
            "Number of instances: : 1\n",
            "Number of instances: : 2\n",
            "Number of instances: : 1\n",
            "Number of instances: : 0\n"
          ]
        }
      ]
    },
    {
      "cell_type": "code",
      "source": [
        "class Robot:\n",
        "    __counter = 0\n",
        "    def __init__(self):\n",
        "        type(self).__counter += 1\n",
        "    def RobotInstances():\n",
        "        return Robot.__counter"
      ],
      "metadata": {
        "id": "0lyoNygylTUX"
      },
      "execution_count": null,
      "outputs": []
    },
    {
      "cell_type": "code",
      "source": [
        "x = Robot()\n",
        "x.RobotInstances()"
      ],
      "metadata": {
        "colab": {
          "base_uri": "https://localhost:8080/",
          "height": 181
        },
        "id": "dEvAsLQplV9S",
        "outputId": "27574d88-50db-45aa-86ce-d66e1bbb784f"
      },
      "execution_count": null,
      "outputs": [
        {
          "output_type": "error",
          "ename": "TypeError",
          "evalue": "ignored",
          "traceback": [
            "\u001b[0;31m---------------------------------------------------------------------------\u001b[0m",
            "\u001b[0;31mTypeError\u001b[0m                                 Traceback (most recent call last)",
            "\u001b[0;32m<ipython-input-11-4d5e11c3474a>\u001b[0m in \u001b[0;36m<module>\u001b[0;34m()\u001b[0m\n\u001b[1;32m      1\u001b[0m \u001b[0mx\u001b[0m \u001b[0;34m=\u001b[0m \u001b[0mRobot\u001b[0m\u001b[0;34m(\u001b[0m\u001b[0;34m)\u001b[0m\u001b[0;34m\u001b[0m\u001b[0;34m\u001b[0m\u001b[0m\n\u001b[0;32m----> 2\u001b[0;31m \u001b[0mx\u001b[0m\u001b[0;34m.\u001b[0m\u001b[0mRobotInstances\u001b[0m\u001b[0;34m(\u001b[0m\u001b[0;34m)\u001b[0m\u001b[0;34m\u001b[0m\u001b[0;34m\u001b[0m\u001b[0m\n\u001b[0m",
            "\u001b[0;31mTypeError\u001b[0m: RobotInstances() takes 0 positional arguments but 1 was given"
          ]
        }
      ]
    },
    {
      "cell_type": "code",
      "source": [
        "class Robot_static_method:\n",
        "    __counter = 0\n",
        "    def __init__(self):\n",
        "        type(self).__counter += 1\n",
        "    @staticmethod\n",
        "    def RobotInstances():\n",
        "        return Robot_static_method.__counter\n"
      ],
      "metadata": {
        "id": "_q70k9U4lgPq"
      },
      "execution_count": null,
      "outputs": []
    },
    {
      "cell_type": "code",
      "source": [
        "y = Robot_static_method()\n",
        "y.RobotInstances()"
      ],
      "metadata": {
        "colab": {
          "base_uri": "https://localhost:8080/"
        },
        "id": "uoH81AOCl1nm",
        "outputId": "cde8bc66-d97f-488e-fac0-0f5515d894dc"
      },
      "execution_count": null,
      "outputs": [
        {
          "output_type": "execute_result",
          "data": {
            "text/plain": [
              "1"
            ]
          },
          "metadata": {},
          "execution_count": 20
        }
      ]
    },
    {
      "cell_type": "markdown",
      "source": [
        "--------------------------------------\n",
        "*** instance method -- about ***\n",
        "--------------------------------------"
      ],
      "metadata": {
        "id": "zzumdxLtpI9D"
      }
    },
    {
      "cell_type": "code",
      "source": [
        "class Pet:\n",
        "    _class_info = \"pet animals\"\n",
        "    def about(self):\n",
        "        print(\"This class is about \" + self._class_info + \"!\")   \n",
        "class Dog(Pet):\n",
        "    _class_info = \"man's best friends\"\n",
        "class Cat(Pet):\n",
        "    _class_info = \"all kinds of cats\"\n"
      ],
      "metadata": {
        "id": "SZG_2GzCpP1B"
      },
      "execution_count": null,
      "outputs": []
    },
    {
      "cell_type": "code",
      "source": [
        "p = Pet()\n",
        "p.about()\n",
        "d = Dog()\n",
        "d.about()\n",
        "c = Cat()\n",
        "c.about()"
      ],
      "metadata": {
        "colab": {
          "base_uri": "https://localhost:8080/"
        },
        "id": "3RYg_rsMqauW",
        "outputId": "8e516cf3-220a-44e7-d0f4-7eae20ded384"
      },
      "execution_count": null,
      "outputs": [
        {
          "output_type": "stream",
          "name": "stdout",
          "text": [
            "This class is about pet animals!\n",
            "This class is about man's best friends!\n",
            "This class is about all kinds of cats!\n"
          ]
        }
      ]
    },
    {
      "cell_type": "code",
      "source": [
        "Pet.about(p)\n",
        "Dog.about(d)\n",
        "Cat.about(c)"
      ],
      "metadata": {
        "colab": {
          "base_uri": "https://localhost:8080/"
        },
        "id": "gx07-tEtqdpj",
        "outputId": "93f434de-68d2-40b6-bf46-190a022b6562"
      },
      "execution_count": null,
      "outputs": [
        {
          "output_type": "stream",
          "name": "stdout",
          "text": [
            "This class is about pet animals!\n",
            "This class is about man's best friends!\n",
            "This class is about all kinds of cats!\n"
          ]
        }
      ]
    },
    {
      "cell_type": "markdown",
      "source": [
        "--------------------------------------\n",
        "***Static method -- about ***\n",
        "--------------------------------------"
      ],
      "metadata": {
        "id": "CbcsQL6Pqosi"
      }
    },
    {
      "cell_type": "code",
      "source": [
        "class Pet:\n",
        "    _class_info = \"pet animals\"\n",
        "    @staticmethod\n",
        "    def about():\n",
        "        print(\"This class is about \" + Pet._class_info + \"!\")   \n",
        "class Dog(Pet):\n",
        "    _class_info = \"man's best friends\"\n",
        "class Cat(Pet):\n",
        "    _class_info = \"all kinds of cats\"\n"
      ],
      "metadata": {
        "id": "w5mY8dXVqk4o"
      },
      "execution_count": null,
      "outputs": []
    },
    {
      "cell_type": "code",
      "source": [
        "Pet.about()\n",
        "Dog.about()\n",
        "Cat.about()"
      ],
      "metadata": {
        "colab": {
          "base_uri": "https://localhost:8080/"
        },
        "id": "e-Tdj9drqxt6",
        "outputId": "a039a872-ec44-4c96-e87d-162f2c508c20"
      },
      "execution_count": null,
      "outputs": [
        {
          "output_type": "stream",
          "name": "stdout",
          "text": [
            "This class is about pet animals!\n",
            "This class is about pet animals!\n",
            "This class is about pet animals!\n"
          ]
        }
      ]
    },
    {
      "cell_type": "markdown",
      "source": [
        "--------------------------------------\n",
        "***Class Method -- about***\n",
        "--------------------------------------"
      ],
      "metadata": {
        "id": "RDohBFf7rEq_"
      }
    },
    {
      "cell_type": "code",
      "source": [
        "class Pet:\n",
        "    _class_info = \"pet animals\"\n",
        "    @classmethod\n",
        "    def about(cls):\n",
        "        print(\"This class is about \" + cls._class_info + \"!\")   \n",
        "class Dog(Pet):\n",
        "    _class_info = \"man's best friends\"\n",
        "class Cat(Pet):\n",
        "    _class_info = \"all kinds of cats\"\n"
      ],
      "metadata": {
        "id": "f4N7PvtkrB5T"
      },
      "execution_count": null,
      "outputs": []
    },
    {
      "cell_type": "code",
      "source": [
        "Pet.about()\n",
        "Dog.about()\n",
        "Cat.about()"
      ],
      "metadata": {
        "colab": {
          "base_uri": "https://localhost:8080/"
        },
        "id": "HXOywbJwrDev",
        "outputId": "24ee5e0c-01d1-4a01-c07b-9dcbec6c69e5"
      },
      "execution_count": null,
      "outputs": [
        {
          "output_type": "stream",
          "name": "stdout",
          "text": [
            "This class is about pet animals!\n",
            "This class is about man's best friends!\n",
            "This class is about all kinds of cats!\n"
          ]
        }
      ]
    }
  ]
}