{
  "nbformat": 4,
  "nbformat_minor": 0,
  "metadata": {
    "colab": {
      "name": "3. Properties vs. Getters and Setters.ipynb",
      "provenance": [],
      "collapsed_sections": [],
      "authorship_tag": "ABX9TyNMUJapnnL5TCFimZq9/Has",
      "include_colab_link": true
    },
    "kernelspec": {
      "name": "python3",
      "display_name": "Python 3"
    },
    "language_info": {
      "name": "python"
    }
  },
  "cells": [
    {
      "cell_type": "markdown",
      "metadata": {
        "id": "view-in-github",
        "colab_type": "text"
      },
      "source": [
        "<a href=\"https://colab.research.google.com/github/raviakasapu/pythonOOP/blob/main/3_Properties_vs_Getters_and_Setters.ipynb\" target=\"_parent\"><img src=\"https://colab.research.google.com/assets/colab-badge.svg\" alt=\"Open In Colab\"/></a>"
      ]
    },
    {
      "cell_type": "markdown",
      "source": [
        "# Properties"
      ],
      "metadata": {
        "id": "7V5W4xeSyv12"
      }
    },
    {
      "cell_type": "code",
      "source": [
        "class P:\n",
        "  def __init__(self,x):\n",
        "    self.__x = x\n",
        "  def get_x(self):\n",
        "    return self.__x\n",
        "  def set_x(self,x):\n",
        "    self.__x = x"
      ],
      "metadata": {
        "id": "xDyQkv8OywUA"
      },
      "execution_count": 1,
      "outputs": []
    },
    {
      "cell_type": "code",
      "source": [
        "p1 = P(42)\n",
        "p2 = P(3333)\n",
        "\n",
        "p1.get_x()"
      ],
      "metadata": {
        "colab": {
          "base_uri": "https://localhost:8080/"
        },
        "id": "SkcdStGmzUjL",
        "outputId": "e290564a-3b90-49ec-82d2-8dba28db619e"
      },
      "execution_count": 2,
      "outputs": [
        {
          "output_type": "execute_result",
          "data": {
            "text/plain": [
              "42"
            ]
          },
          "metadata": {},
          "execution_count": 2
        }
      ]
    },
    {
      "cell_type": "code",
      "source": [
        "p2.get_x()"
      ],
      "metadata": {
        "colab": {
          "base_uri": "https://localhost:8080/"
        },
        "id": "Pg9PeULQzcXc",
        "outputId": "f67be566-3da0-40fe-9a1f-0e4e9bdb72c5"
      },
      "execution_count": 3,
      "outputs": [
        {
          "output_type": "execute_result",
          "data": {
            "text/plain": [
              "3333"
            ]
          },
          "metadata": {},
          "execution_count": 3
        }
      ]
    },
    {
      "cell_type": "code",
      "source": [
        "p1.set_x(100)\n",
        "p1.get_x()"
      ],
      "metadata": {
        "colab": {
          "base_uri": "https://localhost:8080/"
        },
        "id": "Fnh_RciEzh88",
        "outputId": "9c970337-4ad9-47d0-ebc2-0f6a2e3edc79"
      },
      "execution_count": 5,
      "outputs": [
        {
          "output_type": "execute_result",
          "data": {
            "text/plain": [
              "100"
            ]
          },
          "metadata": {},
          "execution_count": 5
        }
      ]
    },
    {
      "cell_type": "code",
      "source": [
        "class Q:\n",
        "  def __init__(self,x):\n",
        "    self.x = x"
      ],
      "metadata": {
        "id": "li-7fGUPzvPM"
      },
      "execution_count": 6,
      "outputs": []
    },
    {
      "cell_type": "code",
      "source": [
        "p1 = Q(55)\n",
        "p2 = Q(100)\n",
        "p1.x"
      ],
      "metadata": {
        "colab": {
          "base_uri": "https://localhost:8080/"
        },
        "id": "tVXNbBUqz00c",
        "outputId": "f8a322f7-ad9e-4948-984d-26620fe57b2e"
      },
      "execution_count": 7,
      "outputs": [
        {
          "output_type": "execute_result",
          "data": {
            "text/plain": [
              "55"
            ]
          },
          "metadata": {},
          "execution_count": 7
        }
      ]
    },
    {
      "cell_type": "code",
      "source": [
        "p1.x = 47\n",
        "p1.x = p1.x + p2.x\n",
        "p1.x"
      ],
      "metadata": {
        "colab": {
          "base_uri": "https://localhost:8080/"
        },
        "id": "5IFD0uEQz-Hw",
        "outputId": "f8b17f43-e46b-431b-e3f5-9dd7c3128442"
      },
      "execution_count": 8,
      "outputs": [
        {
          "output_type": "execute_result",
          "data": {
            "text/plain": [
              "147"
            ]
          },
          "metadata": {},
          "execution_count": 8
        }
      ]
    },
    {
      "cell_type": "code",
      "source": [
        "class OurClass:\n",
        "    def __init__(self, a):\n",
        "        self.OurAtt = a\n",
        "    @property\n",
        "    def OurAtt(self):\n",
        "        return self.__OurAtt\n",
        "    @OurAtt.setter\n",
        "    def OurAtt(self, val):\n",
        "        if val < 0:\n",
        "            self.__OurAtt = 0\n",
        "        elif val > 1000:\n",
        "            self.__OurAtt = 1000\n",
        "        else:\n",
        "            self.__OurAtt = val\n",
        "x = OurClass(10)\n",
        "print(x.OurAtt)"
      ],
      "metadata": {
        "colab": {
          "base_uri": "https://localhost:8080/"
        },
        "id": "BhpcOqzBlZsH",
        "outputId": "0ac9ad71-a247-4b02-991a-e447745d1837"
      },
      "execution_count": 1,
      "outputs": [
        {
          "output_type": "stream",
          "name": "stdout",
          "text": [
            "10\n"
          ]
        }
      ]
    }
  ]
}